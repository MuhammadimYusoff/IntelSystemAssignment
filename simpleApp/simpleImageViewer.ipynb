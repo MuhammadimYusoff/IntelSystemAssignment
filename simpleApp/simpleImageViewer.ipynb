{
 "cells": [
  {
   "cell_type": "code",
   "execution_count": 13,
   "metadata": {},
   "outputs": [
    {
     "name": "stderr",
     "output_type": "stream",
     "text": [
      "Exception in Tkinter callback\n",
      "Traceback (most recent call last):\n",
      "  File \"/opt/miniconda3/lib/python3.9/tkinter/__init__.py\", line 1892, in __call__\n",
      "    return self.func(*args)\n",
      "  File \"/var/folders/b1/pnpzxlrd2bx3g_ldhl42x8540000gn/T/ipykernel_6976/2243759239.py\", line 35, in <lambda>\n",
      "    buttonNext = Button(root, text=\"Next\", command= lambda: goNext(2)).grid(row = 1, column=2)\n",
      "TypeError: goNext() takes 0 positional arguments but 1 was given\n",
      "Exception in Tkinter callback\n",
      "Traceback (most recent call last):\n",
      "  File \"/opt/miniconda3/lib/python3.9/tkinter/__init__.py\", line 1892, in __call__\n",
      "    return self.func(*args)\n",
      "  File \"/var/folders/b1/pnpzxlrd2bx3g_ldhl42x8540000gn/T/ipykernel_6976/2243759239.py\", line 35, in <lambda>\n",
      "    buttonNext = Button(root, text=\"Next\", command= lambda: goNext(2)).grid(row = 1, column=2)\n",
      "TypeError: goNext() takes 0 positional arguments but 1 was given\n",
      "Exception in Tkinter callback\n",
      "Traceback (most recent call last):\n",
      "  File \"/opt/miniconda3/lib/python3.9/tkinter/__init__.py\", line 1892, in __call__\n",
      "    return self.func(*args)\n",
      "  File \"/var/folders/b1/pnpzxlrd2bx3g_ldhl42x8540000gn/T/ipykernel_6976/2243759239.py\", line 35, in <lambda>\n",
      "    buttonNext = Button(root, text=\"Next\", command= lambda: goNext(2)).grid(row = 1, column=2)\n",
      "TypeError: goNext() takes 0 positional arguments but 1 was given\n"
     ]
    },
    {
     "ename": "",
     "evalue": "",
     "output_type": "error",
     "traceback": [
      "\u001b[1;31mThe Kernel crashed while executing code in the the current cell or a previous cell. Please review the code in the cell(s) to identify a possible cause of the failure. Click <a href='https://aka.ms/vscodeJupyterKernelCrash'>here</a> for more info. View Jupyter <a href='command:jupyter.viewOutput'>log</a> for further details."
     ]
    }
   ],
   "source": [
    "#  Simple Image Viewer App\n",
    "from tkinter import *\n",
    "# import PIL lib to allow icon read from other than .ico, you to install pillow\n",
    "from PIL import ImageTk,Image\n",
    "\n",
    "root = Tk()\n",
    "root.title(\"Learn to Code!\") # App title\n",
    "root.iconbitmap(\"img/gameIcon.ico\") # App icon at top left\n",
    "\n",
    "my_img1 = ImageTk.PhotoImage(Image.open(\"img/cantexpressit.png\"))\n",
    "my_img2 = ImageTk.PhotoImage(Image.open(\"img/dontevertouchmylaptop.png\"))\n",
    "my_img3 = ImageTk.PhotoImage(Image.open(\"img/donttouchmymacbook.jpeg\"))\n",
    "my_img4 = ImageTk.PhotoImage(Image.open(\"img/Ijustcant.png\"))\n",
    "my_img5 = ImageTk.PhotoImage(Image.open(\"img/ijustcantdoit.jpeg\"))\n",
    "my_img6 = ImageTk.PhotoImage(Image.open(\"img/youdonthavejams.png\"))\n",
    "\n",
    "# Image list\n",
    "image_list = [my_img1, my_img2, my_img3, my_img4, my_img5, my_img6]\n",
    "myLabel = Label(image=my_img1).grid(row=0, column=0, columnspan=3)\n",
    "\n",
    "# Buttons Function\n",
    "def goNext():\n",
    "    global myLabel\n",
    "    global buttonNext\n",
    "    global buttonBack\n",
    "    myLabel.grid_forget()\n",
    "\n",
    "def goBack():\n",
    "    global myLabel\n",
    "    global buttonNext\n",
    "    global buttonBack\n",
    "\n",
    "# Buttons\n",
    "buttonBack = Button(root, text=\"Back\",command=goBack).grid(row = 1, column=0)\n",
    "buttonNext = Button(root, text=\"Next\", command= lambda: goNext(2)).grid(row = 1, column=2)\n",
    "\n",
    "# Quit this program\n",
    "buttonExit = Button(root, text=\"Exit Program\", command=root.quit).grid(row=1, column=1)\n",
    "\n",
    "root.mainloop()"
   ]
  }
 ],
 "metadata": {
  "kernelspec": {
   "display_name": "base",
   "language": "python",
   "name": "python3"
  },
  "language_info": {
   "codemirror_mode": {
    "name": "ipython",
    "version": 3
   },
   "file_extension": ".py",
   "mimetype": "text/x-python",
   "name": "python",
   "nbconvert_exporter": "python",
   "pygments_lexer": "ipython3",
   "version": "3.9.13"
  },
  "orig_nbformat": 4,
  "vscode": {
   "interpreter": {
    "hash": "3d597f4c481aa0f25dceb95d2a0067e73c0966dcbd003d741d821a7208527ecf"
   }
  }
 },
 "nbformat": 4,
 "nbformat_minor": 2
}
