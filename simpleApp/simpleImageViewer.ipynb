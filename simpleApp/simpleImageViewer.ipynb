{
 "cells": [
  {
   "cell_type": "code",
   "execution_count": null,
   "metadata": {},
   "outputs": [],
   "source": [
    "#  Simple Image Viewer App\n",
    "from tkinter import *\n",
    "# import PIL lib to allow icon read from other than .ico, you to install pillow\n",
    "from PIL import ImageTk,Image\n",
    "\n",
    "root = Tk()\n",
    "root.title(\"Learn to Code!\")\n",
    "root.iconbitmap(\"img/gameIcon.ico\")\n",
    "\n",
    "button_quit = Button(root, text=\"Exit Program\", command=root.quit)\n",
    "button_quit.pack()\n",
    "\n",
    "my_img = ImageTk.PhotoImage(Image.open(\"img/gameIcon.png\"))\n",
    "mylabel = Label(image=my_img)\n",
    "mylabel.pack()\n",
    "\n",
    "\n",
    "root.mainloop()"
   ]
  }
 ],
 "metadata": {
  "kernelspec": {
   "display_name": "base",
   "language": "python",
   "name": "python3"
  },
  "language_info": {
   "codemirror_mode": {
    "name": "ipython",
    "version": 3
   },
   "file_extension": ".py",
   "mimetype": "text/x-python",
   "name": "python",
   "nbconvert_exporter": "python",
   "pygments_lexer": "ipython3",
   "version": "3.9.13 (main, Oct 13 2022, 16:12:30) \n[Clang 12.0.0 ]"
  },
  "orig_nbformat": 4,
  "vscode": {
   "interpreter": {
    "hash": "3d597f4c481aa0f25dceb95d2a0067e73c0966dcbd003d741d821a7208527ecf"
   }
  }
 },
 "nbformat": 4,
 "nbformat_minor": 2
}
