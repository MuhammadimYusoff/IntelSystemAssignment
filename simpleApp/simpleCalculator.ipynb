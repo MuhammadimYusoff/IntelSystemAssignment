{
 "cells": [
  {
   "cell_type": "code",
   "execution_count": 1,
   "metadata": {},
   "outputs": [
    {
     "ename": "",
     "evalue": "",
     "output_type": "error",
     "traceback": [
      "\u001b[1;31mThe Kernel crashed while executing code in the the current cell or a previous cell. Please review the code in the cell(s) to identify a possible cause of the failure. Click <a href='https://aka.ms/vscodeJupyterKernelCrash'>here</a> for more info. View Jupyter <a href='command:jupyter.viewOutput'>log</a> for further details."
     ]
    }
   ],
   "source": [
    "# Simple Calculator App using tkinter framework\n",
    "from tkinter import *\n",
    "root = Tk()\n",
    "root.title(\"Simple Calculator\") # Program Title\n",
    "\n",
    "e = Entry(root, width=50, borderwidth=5)\n",
    "e.grid(row=0, column=0, columnspan=3, padx=10, pady=10)\n",
    "\n",
    "# Button Numbers\n",
    "def button_click(number):\n",
    "    # e.delete(0, END) # Clear the box context\n",
    "    current = e.get()\n",
    "    e.delete(0, END) # delete the content and add the new number\n",
    "    e.insert(0, str(current) + str(number))\n",
    "\n",
    "# Button Clear\n",
    "def button_clear():\n",
    "    e.delete(0, END)\n",
    "\n",
    "# Button Add\n",
    "def button_add():\n",
    "    first_number = e.get()\n",
    "    global f_num\n",
    "    global math\n",
    "    math = \"addition\"\n",
    "    f_num = int(first_number)\n",
    "    e.delete(0, END)\n",
    "\n",
    "# Button Equal\n",
    "def button_equal():\n",
    "    second_number = e.get()\n",
    "    e.delete(0, END)\n",
    "    if math == \"addition\":\n",
    "        e.insert(0, f_num + int(second_number))\n",
    "    if math == \"subtraction\":\n",
    "        e.insert(0, f_num - int(second_number))\n",
    "    if math == \"multiplication\":\n",
    "        e.insert(0, f_num * int(second_number))\n",
    "    if math == \"division\":\n",
    "        e.insert(0, f_num / int(second_number))\n",
    "\n",
    "# Button Subtract\n",
    "def button_subtract():\n",
    "    first_number = e.get()\n",
    "    global f_num\n",
    "    global math\n",
    "    math = \"subtraction\"\n",
    "    f_num = int(first_number)\n",
    "    e.delete(0, END)\n",
    "\n",
    "# Button Multiply\n",
    "def button_multiply():\n",
    "    first_number = e.get()\n",
    "    global f_num\n",
    "    global math\n",
    "    math = \"multiplication\"\n",
    "    f_num = int(first_number)\n",
    "    e.delete(0, END)\n",
    "\n",
    "# Button Divide\n",
    "def button_divide():\n",
    "    first_number = e.get()\n",
    "    global f_num\n",
    "    global math\n",
    "    math = \"division\"\n",
    "    f_num = int(first_number)\n",
    "    e.delete(0, END)\n",
    "\n",
    "# Button Numbers\n",
    "button_1 = Button(root, text=\"1\", padx=40, pady=20, command=lambda: button_click(1)).grid(row=3, column=0)\n",
    "button_2 = Button(root, text=\"2\", padx=40, pady=20, command=lambda: button_click(2)).grid(row=3, column=1)\n",
    "button_3 = Button(root, text=\"3\", padx=40, pady=20, command=lambda: button_click(3)).grid(row=3, column=2)\n",
    "button_4 = Button(root, text=\"4\", padx=40, pady=20, command=lambda: button_click(4)).grid(row=2, column=0)\n",
    "button_5 = Button(root, text=\"5\", padx=40, pady=20, command=lambda: button_click(5)).grid(row=2, column=1)\n",
    "button_6 = Button(root, text=\"6\", padx=40, pady=20, command=lambda: button_click(6)).grid(row=2, column=2)\n",
    "button_7 = Button(root, text=\"7\", padx=40, pady=20, command=lambda: button_click(7)).grid(row=1, column=0)\n",
    "button_8 = Button(root, text=\"8\", padx=40, pady=20, command=lambda: button_click(8)).grid(row=1, column=1)\n",
    "button_9 = Button(root, text=\"9\", padx=40, pady=20, command=lambda: button_click(9)).grid(row=1, column=2)\n",
    "button_0 = Button(root, text=\"0\", padx=40, pady=20, command=lambda: button_click(0)).grid(row=4, column=0)\n",
    "\n",
    "# Operation Buttons\n",
    "button_add = Button(root, text=\"+\", padx=39, pady=20, command=button_add).grid(row=5, column=0)\n",
    "button_subtract = Button(root, text=\"-\", padx=39, pady=20, command=button_subtract).grid(row=6, column=0)\n",
    "button_multiply = Button(root, text=\"x\", padx=39, pady=20, command=button_multiply).grid(row=6, column=1)\n",
    "button_divide = Button(root, text=\"/\", padx=39, pady=20, command=button_divide).grid(row=6, column=2)\n",
    "button_equal = Button(root, text=\"=\", padx=120, pady=20, command=button_equal).grid(row=5, column=1, columnspan=2)\n",
    "button_clear = Button(root, text=\"CLEAR\", padx=105, pady=20, command=button_clear).grid(row=4, column=1, columnspan=2)\n",
    "\n",
    "root.mainloop()"
   ]
  }
 ],
 "metadata": {
  "kernelspec": {
   "display_name": "base",
   "language": "python",
   "name": "python3"
  },
  "language_info": {
   "codemirror_mode": {
    "name": "ipython",
    "version": 3
   },
   "file_extension": ".py",
   "mimetype": "text/x-python",
   "name": "python",
   "nbconvert_exporter": "python",
   "pygments_lexer": "ipython3",
   "version": "3.9.13 (main, Oct 13 2022, 16:12:30) \n[Clang 12.0.0 ]"
  },
  "orig_nbformat": 4,
  "vscode": {
   "interpreter": {
    "hash": "3d597f4c481aa0f25dceb95d2a0067e73c0966dcbd003d741d821a7208527ecf"
   }
  }
 },
 "nbformat": 4,
 "nbformat_minor": 2
}
