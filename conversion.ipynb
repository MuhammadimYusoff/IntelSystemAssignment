{
 "cells": [
  {
   "cell_type": "code",
   "execution_count": null,
   "metadata": {},
   "outputs": [],
   "source": [
    "import numpy as np \n",
    "\n",
    "np.name[5] = {'A', 'L', 'A', 'D', 'L'};\n",
    "#char name[5] = {'A', 'L', 'A', 'D', 'L'}; -> goalState\n",
    "#char user[5] = {'A','L','A','D','L'}; -> currentState (then compare currentState with goalState)\n",
    "triesNum = 0; # no of tries\n",
    "wrong_letters = 0; # wrong letters\n",
    "final = 0; # f(n) = g(n) + h(n)\n",
    "# final = triesNum + wrong_letters\n",
    "points = 0; \n",
    "#in progress \n",
    "do\n",
    "    {\n",
    "        hn = 0;\n",
    "        gn++;\n",
    "        cout << \"enter the name that have the meaning(The Utterly Just)\\n\";\n",
    "\n",
    "        for (int i = 0; i < 5; i++)\n",
    "        {\n",
    "            cin >> user[i];\n",
    "        }\n",
    "\n",
    "        for (int i = 0; i < 5; i++)\n",
    "        {\n",
    "            if (user[i] != name[i])\n",
    "                hn++;\n",
    "        }\n",
    "\n",
    "        for (int i = 0; i < 5; i++)\n",
    "        {\n",
    "            cout << user[i];\n",
    "        }\n",
    "\n",
    "        cout << \"\\nwrong letters \" << hn << \"\\n\";\n",
    "        cout << \"\\ntries: \" << gn << \"\\n\";\n",
    "        fn = gn + hn;\n",
    "        cout << \"\\nf(n) \" << fn << \"\\n\";\n",
    "\n",
    "        if (hn > 0)\n",
    "            cout << \"Try Again\\n\";\n",
    "        else\n",
    "        {\n",
    "            cout << \"RIGHT, you got it!\\n\";\n",
    "            points++;\n",
    "            cout << \"Your score: \" << points;\n",
    "        }\n",
    "\n",
    "    } while (hn != 0);\n",
    "    return 0;\n",
    "}"
   ]
  }
 ],
 "metadata": {
  "kernelspec": {
   "display_name": "Python 3.11.0 64-bit",
   "language": "python",
   "name": "python3"
  },
  "language_info": {
   "codemirror_mode": {
    "name": "ipython",
    "version": 3
   },
   "file_extension": ".py",
   "mimetype": "text/x-python",
   "name": "python",
   "nbconvert_exporter": "python",
   "pygments_lexer": "ipython3",
   "version": "3.11.0"
  },
  "orig_nbformat": 4,
  "vscode": {
   "interpreter": {
    "hash": "ad7ae21f7c050dac50066c373f8c3ac8118ed5639e8d6726494cfc77eb7b1bb0"
   }
  }
 },
 "nbformat": 4,
 "nbformat_minor": 2
}
