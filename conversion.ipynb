{
 "cells": [
  {
   "cell_type": "code",
   "execution_count": null,
   "metadata": {},
   "outputs": [],
   "source": [
    "import numpy as np \n",
    "\n",
    "answer = np.array([\"AL-ADL\", \"AL-MALIK\", \"AS-SALAM\", \"AL-KHALIQ\", \"AL-KAREEM\"])\n",
    "triesNum = 4 # no of tries / inputs , total = 5, tries = 3\n",
    "entry = 6\n",
    "# marks calculation and fix loop tmw zzzzz \n",
    "player_points = 0 \n",
    "\n",
    "#while loop to determine array values in comparison to userinput\n",
    "while np.logical_and(triesNum != 0, entry != 0):\n",
    "    userinput = input(\"Guess the word below!\\n\")\n",
    "    triesNum = triesNum-1\n",
    "    entry = entry-1\n",
    "    #switch-case statements for userinputs matched with the words\n",
    "    match userinput:\n",
    "        case \"AL-ADL\":\n",
    "            print(\"Correct! The first guess is indeed ALADL.\")\n",
    "        case \"AL-MALIK\":\n",
    "            print(\"Correct! The second guess is ALMALIK also known as The King.\")\n",
    "        case \"AS-SALAM\":\n",
    "            print(\"Correct! The third guess is ASSALAM which denotes peace.\")\n",
    "        case \"AL-KHALIQ\":\n",
    "            print(\"Correct! The fourth is ALKHALIQ which significantly means The Creator.\")\n",
    "        case \"AL-KAREEM\":\n",
    "            print(\"Correct! The last word is ALKAREEM defined as The Bountiful.\")\n",
    "        case _:\n",
    "            print(\"Incorrect! You have \"+ str(triesNum) + \" tries \" + \" and \" + str(entry) + \" entries left.\")\n"
   ]
  }
 ],
 "metadata": {
  "kernelspec": {
   "display_name": "Python 3.11.0 64-bit",
   "language": "python",
   "name": "python3"
  },
  "language_info": {
   "codemirror_mode": {
    "name": "ipython",
    "version": 3
   },
   "file_extension": ".py",
   "mimetype": "text/x-python",
   "name": "python",
   "nbconvert_exporter": "python",
   "pygments_lexer": "ipython3",
   "version": "3.11.0"
  },
  "orig_nbformat": 4,
  "vscode": {
   "interpreter": {
    "hash": "ad7ae21f7c050dac50066c373f8c3ac8118ed5639e8d6726494cfc77eb7b1bb0"
   }
  }
 },
 "nbformat": 4,
 "nbformat_minor": 2
}
