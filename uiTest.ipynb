{
 "cells": [
  {
   "cell_type": "code",
   "execution_count": null,
   "metadata": {},
   "outputs": [],
   "source": [
    "# Basic Python UI window\n",
    "from tkinter import *\n",
    "\n",
    "root = Tk()\n",
    "\n",
    "# Declare a label widget\n",
    "myLabel = Label(root, text=\"Hello World!\")\n",
    "\n",
    "# Packing all the widgets above into one window\n",
    "myLabel.pack()\n",
    "\n",
    "# Loop to make sure the program keep alive\n",
    "root.mainloop()"
   ]
  },
  {
   "cell_type": "code",
   "execution_count": null,
   "metadata": {},
   "outputs": [],
   "source": [
    "# Using grid() instead of pack()\n",
    "from tkinter import *\n",
    "\n",
    "root = Tk()\n",
    "\n",
    "# Declare a label widget\n",
    "myLabel1 = Label(root, text=\"Hello World!\")\n",
    "myLabel2 = Label(root, text=\"My name is Yusoff Jamaluddin\")\n",
    "\n",
    "# Packing all the widgets above into one window\n",
    "myLabel1.grid(row=0, column=0)\n",
    "myLabel2.grid(row=1, column=0)\n",
    "\n",
    "# Loop to make sure the program keep alive\n",
    "root.mainloop()"
   ]
  },
  {
   "cell_type": "code",
   "execution_count": null,
   "metadata": {},
   "outputs": [],
   "source": [
    "# Other way to create the same output as above\n",
    "\n",
    "from tkinter import *\n",
    "\n",
    "root = Tk()\n",
    "\n",
    "# Declare a label widget\n",
    "myLabel1 = Label(root, text=\"Hello World!\").grid(row=0, column=0)\n",
    "myLabel2 = Label(root, text=\"My name is Yusoff Jamaluddin\").grid(row=0, column=1)\n",
    "\n",
    "# Loop to make sure the program keep alive\n",
    "root.mainloop()"
   ]
  },
  {
   "cell_type": "code",
   "execution_count": null,
   "metadata": {},
   "outputs": [],
   "source": [
    "# Creating Buttons\n",
    "from tkinter import *\n",
    "\n",
    "root = Tk()\n",
    "\n",
    "# Declare button widget\n",
    "myButtonUsable = Button(root, text=\"Click Me!\", padx= 50, pady= 40) # Button with paddings\n",
    "myButtonDisabled = Button(root, text=\"Click Me!\", state=DISABLED) # Disabled button\n",
    "myButtonUsable.pack() # pack the UI\n",
    "myButtonDisabled.pack() # pack the UI\n",
    "\n",
    "# Loop to make sure the program keep alive\n",
    "root.mainloop()\n"
   ]
  },
  {
   "cell_type": "code",
   "execution_count": null,
   "metadata": {},
   "outputs": [],
   "source": [
    "# Creating Buttons with functions\n",
    "from tkinter import *\n",
    "root = Tk()\n",
    "\n",
    "# Define your functions\n",
    "def myClick():\n",
    "    myLabel = Label(root, text = \"Look I clicked the button!\")\n",
    "    myLabel.pack()\n",
    "\n",
    "# Declare button widget with the function name (mycLICK)\n",
    "myButtonUsable = Button(root, text=\"Click Me!\", padx=44, pady= 55, command=myClick, fg=\"blue\", bg=\"#000000\") # Button with paddings, foreground (text) color blue and background color red\n",
    "#! make sure not to place your function with bracket because the program will call it immediately after it starts\n",
    "myButtonDisabled = Button(root, text=\"Click Me!\", state=DISABLED) # Disabled button\n",
    "\n",
    "# pack the UI\n",
    "myButtonUsable.pack()\n",
    "myButtonDisabled.pack()\n",
    "\n",
    "# Loop to make sure the program keep alive\n",
    "root.mainloop()\n"
   ]
  },
  {
   "cell_type": "code",
   "execution_count": null,
   "metadata": {},
   "outputs": [],
   "source": [
    "# Creating Fileds\n",
    "from tkinter import *\n",
    "root = Tk()\n",
    "\n",
    "# Declare field widget\n",
    "e= Entry(root, width = 50, bg = \"white\", fg= \"red\")\n",
    "\n",
    "# pack the UI\n",
    "e.pack()\n",
    "\n",
    "# Loop to make sure the program keep alive\n",
    "root.mainloop()\n"
   ]
  },
  {
   "cell_type": "code",
   "execution_count": null,
   "metadata": {},
   "outputs": [],
   "source": [
    "# Creating Input Field and Button\n",
    "from tkinter import *\n",
    "\n",
    "root = Tk()\n",
    "\n",
    "# Input Widget\n",
    "e = Entry(root, width=50, bg=\"white\", fg=\"black\")\n",
    "e.pack()\n",
    "\n",
    "# Click Function\n",
    "def myClick():\n",
    "    myLabel = Label(root, text=e.get())\n",
    "    myLabel.pack()\n",
    "\n",
    "# Button to click with the myClick function\n",
    "myButton = Button(root, text=\"Enter your name!\", command=myClick, fg=\"black\")\n",
    "myButton.pack()\n",
    "\n",
    "root.mainloop()"
   ]
  },
  {
   "cell_type": "code",
   "execution_count": null,
   "metadata": {},
   "outputs": [],
   "source": [
    "# Create Input Field with Placeholder\n",
    "from tkinter import *\n",
    "root = Tk()\n",
    "\n",
    "# Input Widget\n",
    "e= Entry(root, width=50)\n",
    "e.pack()\n",
    "e.insert(0, \"Enter Your Name: \") # The placeholder\n",
    "\n",
    "def myClick():\n",
    "    hello = \"Hello \" + e.get()\n",
    "    greetLabel = Label(root, text=hello)\n",
    "    greetLabel.pack()\n",
    "\n",
    "myButton = Button(root, text=\"Enter Your Name\", command=myClick)\n",
    "myButton.pack()\n",
    "\n",
    "root.mainloop()"
   ]
  },
  {
   "cell_type": "code",
   "execution_count": 1,
   "metadata": {},
   "outputs": [],
   "source": [
    "# Creating Icon and images\n",
    "from tkinter import *\n",
    "# import PIL lib to allow icon read from other than .ico, you to install pillow\n",
    "from PIL import ImageTk,Image\n",
    "\n",
    "root = Tk()\n",
    "root.title(\"Learn to Code!\")\n",
    "root.iconbitmap(\"img/gameIcon.ico\")\n",
    "\n",
    "button_quit = Button(root, text=\"Exit Program\", command=root.quit)\n",
    "button_quit.pack()\n",
    "\n",
    "my_img = ImageTk.PhotoImage(Image.open(\"img/gameIcon.png\"))\n",
    "mylabel = Label(image=my_img)\n",
    "mylabel.pack()\n",
    "\n",
    "\n",
    "root.mainloop()"
   ]
  },
  {
   "cell_type": "code",
   "execution_count": null,
   "metadata": {},
   "outputs": [],
   "source": []
  }
 ],
 "metadata": {
  "kernelspec": {
   "display_name": "Python 3.9.13 ('base')",
   "language": "python",
   "name": "python3"
  },
  "language_info": {
   "codemirror_mode": {
    "name": "ipython",
    "version": 3
   },
   "file_extension": ".py",
   "mimetype": "text/x-python",
   "name": "python",
   "nbconvert_exporter": "python",
   "pygments_lexer": "ipython3",
   "version": "3.9.13 (main, Oct 13 2022, 16:12:30) \n[Clang 12.0.0 ]"
  },
  "orig_nbformat": 4,
  "vscode": {
   "interpreter": {
    "hash": "3d597f4c481aa0f25dceb95d2a0067e73c0966dcbd003d741d821a7208527ecf"
   }
  }
 },
 "nbformat": 4,
 "nbformat_minor": 2
}
