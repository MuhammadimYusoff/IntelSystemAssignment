{
 "cells": [
  {
   "cell_type": "code",
   "execution_count": 1,
   "metadata": {},
   "outputs": [],
   "source": [
    "# Testing UI Framework\n",
    "from tkinter import *\n",
    "root = Tk()\n",
    "root.title(\"What's The Word? The Almighty Name\")\n",
    "\n",
    "# All Variables\n",
    "marks = 0 # Player's Marks\n",
    "\n",
    "# Function chooseQuestions\n",
    "def chooseQuestions():\n",
    "    return\n",
    "    # for i in range(len()):\n",
    "        # myLabel = Label(root, text=\"Button Number \" + i)\n",
    "\n",
    "# Function checkGuess\n",
    "def checkGuess():\n",
    "    return\n",
    "#     playerGuess = Label(root, text=\"Player's Guess Number\").grid(row=1, column=0,)\n",
    "#     playerGuessCount = Label(root, text=\"Playes's Guess Count\").grid(row=1, column=5)\n",
    "\n",
    "# Function checkMarks\n",
    "def checkMarks():\n",
    "    return\n",
    "    # playerMarks = Label(root, text=\"Your Marks is \" + marks)\n",
    "\n",
    "# Player options to choose which word to guess (Button Widgets)\n",
    "buttonOne = Button(root, text=\"Guess Me 1!\", width=10, command=chooseQuestions).grid(row=0, column=0, columnspan=1)\n",
    "buttonTwo = Button(root, text=\"Guess Me 2!\", width=10, command=chooseQuestions).grid(row=0, column=1, columnspan=1)\n",
    "buttonThree = Button(root, text=\"Guess Me 3!\", width=10, command=chooseQuestions).grid(row=0, column=2, columnspan=1)\n",
    "buttonFour = Button(root, text=\"Guess Me 4!\", width=10, command=chooseQuestions).grid(row=0, column=3, columnspan=1)\n",
    "buttonFive = Button(root, text=\"Guess Me 5!\", width=10, command=chooseQuestions).grid(row=0, column=4, columnspan=1)\n",
    "buttonMarks = Button(root, text=\"My Marks!\", width=10,  command=checkMarks).grid(row=0, column=5, columnspan=1)\n",
    "\n",
    "# Hint for Player (Label Widgets)\n",
    "hint = Label(root, text=\"Arabic word meaning 'justice'\").grid(row=1, column=2)\n",
    "\n",
    "# Words to Guess\n",
    "words = Label(root, text=\"LA DAL\").grid(row=2, column=2)\n",
    "\n",
    "# Players previous Input display (Label Widget)\n",
    "\n",
    "\n",
    "# Input for players to guess the word (Input Widget)\n",
    "playerGuess = Entry(root, width=100, bg=\"white\").grid(row=3, column=0, columnspan=4)\n",
    "\n",
    "# Guess Button for Player Guess\n",
    "guessButton = Button(root, text=\"Be My Guess!\", width=10, command=checkGuess).grid(row=3, column=4)\n",
    "\n",
    "# Quit Button\n",
    "guessButton = Button(root, text=\"I Quit!\", width=10,  command=root.quit).grid(row=3, column=5)\n",
    "\n",
    "root.mainloop()"
   ]
  }
 ],
 "metadata": {
  "kernelspec": {
   "display_name": "Python 3.11.0 64-bit",
   "language": "python",
   "name": "python3"
  },
  "language_info": {
   "codemirror_mode": {
    "name": "ipython",
    "version": 3
   },
   "file_extension": ".py",
   "mimetype": "text/x-python",
   "name": "python",
   "nbconvert_exporter": "python",
   "pygments_lexer": "ipython3",
   "version": "3.11.0"
  },
  "orig_nbformat": 4,
  "vscode": {
   "interpreter": {
    "hash": "ad7ae21f7c050dac50066c373f8c3ac8118ed5639e8d6726494cfc77eb7b1bb0"
   }
  }
 },
 "nbformat": 4,
 "nbformat_minor": 2
}
