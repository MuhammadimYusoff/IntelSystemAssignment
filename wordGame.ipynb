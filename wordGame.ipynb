{
 "cells": [
  {
   "cell_type": "code",
   "execution_count": 14,
   "metadata": {},
   "outputs": [
    {
     "ename": "",
     "evalue": "",
     "output_type": "error",
     "traceback": [
      "\u001b[1;31mThe Kernel crashed while executing code in the the current cell or a previous cell. Please review the code in the cell(s) to identify a possible cause of the failure. Click <a href='https://aka.ms/vscodeJupyterKernelCrash'>here</a> for more info. View Jupyter <a href='command:jupyter.viewOutput'>log</a> for further details."
     ]
    }
   ],
   "source": [
    "# Testing UI Framework\n",
    "from tkinter import *\n",
    "root = Tk()\n",
    "root.title(\"What's The Word? The Almighty Name\")\n",
    "\n",
    "# All Variables\n",
    "marks = 0 # Player's Marks\n",
    "\n",
    "# Function chooseQuestions\n",
    "def chooseQuestions():\n",
    "    for i in range(len()):\n",
    "        myLabel = Label(root, text=\"Button Number \" + i)\n",
    "\n",
    "# Function checkGuess\n",
    "# def checkGuess():\n",
    "#     playerGuess = Label(root, text=\"Player's Guess Number\").grid(row=1, column=0,)\n",
    "#     playerGuessCount = Label(root, text=\"Playes's Guess Count\").grid(row=1, column=5)\n",
    "\n",
    "# Function checkMarks\n",
    "def checkMarks():\n",
    "    playerMarks = Label(root, text=\"Your Marks is \" + marks)\n",
    "\n",
    "# Player options to choose which word to guess (Button Widgets)\n",
    "buttonOne = Button(root, text=\"Guess Me 1!\", command=chooseQuestions).grid(row=0, column=0, columnspan=1)\n",
    "buttonTwo = Button(root, text=\"Guess Me 2!\", command=chooseQuestions).grid(row=0, column=1, columnspan=1)\n",
    "buttonThree = Button(root, text=\"Guess Me 3!\", command=chooseQuestions).grid(row=0, column=2, columnspan=1)\n",
    "buttonFour = Button(root, text=\"Guess Me 4!\", command=chooseQuestions).grid(row=0, column=3, columnspan=1)\n",
    "buttonFive = Button(root, text=\"Guess Me 5!\", command=chooseQuestions).grid(row=0, column=4, columnspan=1)\n",
    "buttonMarks = Button(root, text=\"My Marks!\", command=checkMarks).grid(row=0, column=5, columnspan=1)\n",
    "\n",
    "# Hint for Player (Label Widgets)\n",
    "hint = Label(root, text=\"Hint for the word here\").grid(row=1, column=2)\n",
    "\n",
    "# Words to Guess\n",
    "words = Label(root, text=\"Word to Guess here\").grid(row=2, column=2)\n",
    "\n",
    "# Players previous Input display (Label Widget)\n",
    "\n",
    "\n",
    "# Input for players to guess the word (Input Widget)\n",
    "playerGuess = Entry(root, width=100, borderwidth=5, bg=\"white\").grid(row=3, column=0, columnspan=5)\n",
    "\n",
    "# Button for Player Guess\n",
    "# guessButton = Button(root, text=\"Be My Guess!\", command=checkGuess).grid(row=4, column=5)\n",
    "\n",
    "root.mainloop()"
   ]
  }
 ],
 "metadata": {
  "kernelspec": {
   "display_name": "base",
   "language": "python",
   "name": "python3"
  },
  "language_info": {
   "codemirror_mode": {
    "name": "ipython",
    "version": 3
   },
   "file_extension": ".py",
   "mimetype": "text/x-python",
   "name": "python",
   "nbconvert_exporter": "python",
   "pygments_lexer": "ipython3",
   "version": "3.9.13 (main, Oct 13 2022, 16:12:30) \n[Clang 12.0.0 ]"
  },
  "orig_nbformat": 4,
  "vscode": {
   "interpreter": {
    "hash": "8a5edab282632443219e051e4ade2d1d5bbc671c781051bf1437897cbdfea0f1"
   }
  }
 },
 "nbformat": 4,
 "nbformat_minor": 2
}
