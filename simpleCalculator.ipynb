{
 "cells": [
  {
   "cell_type": "code",
   "execution_count": null,
   "metadata": {},
   "outputs": [],
   "source": [
    "# Simple Calculator App using tkinter framework\n",
    "from tkinter import *\n",
    "root = Tk()\n",
    "root.title(\"Simple Calculator\") # Program Title\n",
    "\n",
    "e = Entry(root, width=50, borderwidth=5)\n",
    "e.grid(row=0, column=0, columnspan=3, padx=10, pady=10)\n",
    "\n",
    "def button_click(number):\n",
    "    # e.delete(0, END) # Clear the box context\n",
    "    current = e.get()\n",
    "    e.delete(0, END) # delete the content and add the new number\n",
    "    e.insert(0, str(current) + str(number))\n",
    "\n",
    "# Button Numbers\n",
    "button_1 = Button(root, text=\"1\", padx=40, pady=20, command=lambda: button_click(1)).grid(row=3, column=0)\n",
    "button_2 = Button(root, text=\"2\", padx=40, pady=20, command=lambda: button_click(2)).grid(row=3, column=1)\n",
    "button_3 = Button(root, text=\"3\", padx=40, pady=20, command=lambda: button_click(3)).grid(row=3, column=2)\n",
    "button_4 = Button(root, text=\"4\", padx=40, pady=20, command=lambda: button_click(4)).grid(row=2, column=0)\n",
    "button_5 = Button(root, text=\"5\", padx=40, pady=20, command=lambda: button_click(5)).grid(row=2, column=1)\n",
    "button_6 = Button(root, text=\"6\", padx=40, pady=20, command=lambda: button_click(6)).grid(row=2, column=2)\n",
    "button_7 = Button(root, text=\"7\", padx=40, pady=20, command=lambda: button_click(7)).grid(row=1, column=0)\n",
    "button_8 = Button(root, text=\"8\", padx=40, pady=20, command=lambda: button_click(8)).grid(row=1, column=1)\n",
    "button_9 = Button(root, text=\"9\", padx=40, pady=20, command=lambda: button_click(9)).grid(row=1, column=2)\n",
    "button_0 = Button(root, text=\"0\", padx=40, pady=20, command=lambda: button_click(0)).grid(row=4, column=0)\n",
    "\n",
    "# Operation Buttons\n",
    "button_add = Button(root, text=\"+\", padx=39, pady=20, command=button_click).grid(row=5, column=0)\n",
    "button_equal = Button(root, text=\"=\", padx=91, pady=20, command=button_click).grid(row=5, column=1, columnspan=2)\n",
    "button_clear = Button(root, text=\"CLEAR\", padx=79, pady=20, command=button_click).grid(row=4, column=1, columnspan=2)\n",
    "\n",
    "root.mainloop()"
   ]
  }
 ],
 "metadata": {
  "kernelspec": {
   "display_name": "base",
   "language": "python",
   "name": "python3"
  },
  "language_info": {
   "codemirror_mode": {
    "name": "ipython",
    "version": 3
   },
   "file_extension": ".py",
   "mimetype": "text/x-python",
   "name": "python",
   "nbconvert_exporter": "python",
   "pygments_lexer": "ipython3",
   "version": "3.9.13 (main, Oct 13 2022, 16:12:30) \n[Clang 12.0.0 ]"
  },
  "orig_nbformat": 4,
  "vscode": {
   "interpreter": {
    "hash": "8a5edab282632443219e051e4ade2d1d5bbc671c781051bf1437897cbdfea0f1"
   }
  }
 },
 "nbformat": 4,
 "nbformat_minor": 2
}
